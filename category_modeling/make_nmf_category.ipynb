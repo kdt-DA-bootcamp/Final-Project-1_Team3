{
 "cells": [
  {
   "cell_type": "code",
   "execution_count": 1,
   "metadata": {},
   "outputs": [
    {
     "name": "stdout",
     "output_type": "stream",
     "text": [
      "Filtering: 57039 rows found with categoryID==6\n",
      "categoryID 재매핑이 완료되었습니다. 결과 파일: preprocessed_data_unique_updated.csv\n"
     ]
    }
   ],
   "source": [
    "import pandas as pd\n",
    "from sklearn.decomposition import NMF\n",
    "from sklearn.feature_extraction.text import TfidfVectorizer\n",
    "\n",
    "# 1. CSV 파일 로드\n",
    "input_file = \"C:/Users/hp/Desktop/Bootcamp/PROJECT_OTT_AARRR/preprocessed_data_unique.csv\"\n",
    "df = pd.read_csv(input_file)\n",
    "\n",
    "# 2. categoryID가 6인 데이터만 필터링\n",
    "df_filtered = df[df['categoryID'] == 6].reset_index(drop=True)\n",
    "print(\"Filtering: {} rows found with categoryID==6\".format(df_filtered.shape[0]))\n",
    "\n",
    "# 3. combined_text 열 생성 (만약 없는 경우, title, tags, img_text를 결합)\n",
    "if \"combined_text\" not in df_filtered.columns:\n",
    "    df_filtered[\"combined_text\"] = (\n",
    "        df_filtered[\"title\"].fillna(\"\") + \" \" +\n",
    "        df_filtered[\"tags\"].fillna(\"\") + \" \" +\n",
    "        df_filtered[\"img_text\"].fillna(\"\")\n",
    "    )\n",
    "\n",
    "# 4. 텍스트 데이터를 문서 리스트로 생성\n",
    "docs = df_filtered[\"combined_text\"].fillna(\"\").tolist()\n",
    "\n",
    "# 5. TF-IDF 행렬 생성\n",
    "tfidf_vectorizer = TfidfVectorizer(max_df=0.95, min_df=2, stop_words='english')\n",
    "tfidf = tfidf_vectorizer.fit_transform(docs)\n",
    "\n",
    "# 6. NMF 모델 학습 (토픽 개수를 10으로 설정)\n",
    "n_topics = 10\n",
    "nmf_model = NMF(n_components=n_topics, random_state=42)\n",
    "W = nmf_model.fit_transform(tfidf)  # 문서-토픽 행렬\n",
    "\n",
    "# 7. 각 문서에 대해 가장 큰 기여를 보인 토픽을 예측(문서별 argmax)\n",
    "df_filtered[\"predicted_topic\"] = W.argmax(axis=1)\n",
    "\n",
    "# 8. 토픽 번호에 따른 새로운 categoryID 매핑 딕셔너리 정의\n",
    "topic_to_category = {\n",
    "    0: 1,\n",
    "    6: 1,\n",
    "    7: 1,\n",
    "    2: 3\n",
    "}\n",
    "\n",
    "# 매핑되지 않은 토픽(예: 1, 3, 4, 5, 8, 9)은 기본값 6로 처리\n",
    "df_filtered[\"new_categoryID\"] = df_filtered[\"predicted_topic\"].map(topic_to_category)\n",
    "df_filtered[\"new_categoryID\"] = df_filtered[\"new_categoryID\"].fillna(6)\n",
    "\n",
    "# 9. 원본 DataFrame에서 categoryID가 6인 행에 대해 재매핑된 categoryID로 업데이트\n",
    "# (여기서는 videoID가 고유하다고 가정하고, 필터링 순서가 동일하므로 index 기반으로 대체)\n",
    "df_updated = df.copy()\n",
    "df_updated.loc[df_updated['categoryID'] == 6, 'categoryID'] = df_filtered[\"new_categoryID\"].values\n",
    "\n",
    "# 10. 결과를 새로운 CSV 파일로 저장\n",
    "output_file = \"preprocessed_data_unique_updated.csv\"\n",
    "df_updated.to_csv(output_file, index=False)\n",
    "\n",
    "print(\"categoryID 재매핑이 완료되었습니다. 결과 파일:\", output_file)\n"
   ]
  }
 ],
 "metadata": {
  "kernelspec": {
   "display_name": "YT_project",
   "language": "python",
   "name": "python3"
  },
  "language_info": {
   "codemirror_mode": {
    "name": "ipython",
    "version": 3
   },
   "file_extension": ".py",
   "mimetype": "text/x-python",
   "name": "python",
   "nbconvert_exporter": "python",
   "pygments_lexer": "ipython3",
   "version": "3.9.21"
  }
 },
 "nbformat": 4,
 "nbformat_minor": 2
}
