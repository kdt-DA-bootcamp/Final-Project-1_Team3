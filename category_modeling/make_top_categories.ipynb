{
 "cells": [
  {
   "cell_type": "code",
   "execution_count": null,
   "metadata": {},
   "outputs": [
    {
     "name": "stdout",
     "output_type": "stream",
     "text": [
      "CSV 파일에 대분류 컬럼이 추가되어 저장되었습니다.\n"
     ]
    }
   ],
   "source": [
    "import pandas as pd\n",
    "\n",
    "# CSV 파일 읽기 (파일 경로에 맞게 수정)\n",
    "df = pd.read_csv('C:/Users/hp/Desktop/Bootcamp/PROJECT_OTT_AARRR/video_categories.csv')\n",
    "\n",
    "# categoryID가 29 또는 30인 행 제거\n",
    "df = df[~df['categoryID'].isin([29, 30])]\n",
    "\n",
    "# categoryID에 따른 카테고리명 (초기 카테고리 매핑)\n",
    "categories = {\n",
    "    1: \"Film & Animation\",\n",
    "    2: \"Autos & Vehicles\",\n",
    "    10: \"Music\",\n",
    "    15: \"Pets & Animals\",\n",
    "    17: \"Sports\",\n",
    "    19: \"Travel & Events\",\n",
    "    20: \"Gaming\",\n",
    "    22: \"People & Blogs\",\n",
    "    23: \"Comedy\",\n",
    "    24: \"Entertainment\",\n",
    "    25: \"News & Politics\",\n",
    "    26: \"Howto & Style\",\n",
    "    27: \"Education\",\n",
    "    28: \"Science & Technology\"\n",
    "}\n",
    "\n",
    "# 각 세부 카테고리에 대한 그룹 매핑 (대분류: 그룹번호, 그룹이름)\n",
    "group_mapping = {\n",
    "    'Film & Animation': (1, '엔터테인먼트'),\n",
    "    'Music': (1, '엔터테인먼트'),\n",
    "    'Comedy': (1, '엔터테인먼트'),\n",
    "    'Entertainment': (1, '엔터테인먼트'),\n",
    "    'Autos & Vehicles': (2, '차량'),\n",
    "    'Travel & Events': (3, '여행'),\n",
    "    'Gaming': (4, '게임'),\n",
    "    'Sports': (5, '스포츠'),\n",
    "    'People & Blogs': (6, '라이프'),\n",
    "    'News & Politics': (7, '정치'),\n",
    "    'Pets & Animals': (8, '반려동물'),\n",
    "    'Education': (9, '교육/Howto'),\n",
    "    'Howto & Style': (9, '교육/Howto'),\n",
    "    'Science & Technology': (10, '과학/기술')\n",
    "}\n",
    "\n",
    "# categoryID -> (top_categoryID, top_category)\n",
    "id_to_group = {}\n",
    "for cid, cat_name in categories.items():\n",
    "    id_to_group[cid] = group_mapping.get(cat_name, (None, None))\n",
    "\n",
    "# 각 행의 categoryID를 기반으로 그룹 정보를 할당하는 함수\n",
    "def assign_top_category(cid):\n",
    "    return id_to_group.get(cid, (None, None))\n",
    "\n",
    "# 각 카테고리별로 (그룹번호, 그룹이름) 튜플을 반환받아 두 개의 새로운 컬럼에 할당\n",
    "df['top_categoryID'], df['top_category'] = zip(*df['categoryID'].map(assign_top_category))\n",
    "\n",
    "# top_categoryID 컬럼을 int로 변환 (만약 누락된 값이 없다는 가정하에)\n",
    "df['top_categoryID'] = df['top_categoryID'].astype(int)\n",
    "\n",
    "# 결과 CSV 파일로 저장\n",
    "df.to_csv('C:/Users/hp/Desktop/Bootcamp/PROJECT_OTT_AARRR/video_categories_with_top.csv', index=False)\n",
    "print(\"CSV 파일에 대분류 컬럼이 추가되어 저장되었습니다.\")\n"
   ]
  },
  {
   "cell_type": "code",
   "execution_count": 4,
   "metadata": {},
   "outputs": [
    {
     "name": "stdout",
     "output_type": "stream",
     "text": [
      "[]\n"
     ]
    }
   ],
   "source": [
    "# unmapped categoryID 찾기: CSV에 있는 unique categoryID 중, 매핑 사전에 없는 값 추출\n",
    "unique_ids = df['categoryID'].unique()\n",
    "unmapped_ids = [cid for cid in unique_ids if cid not in id_to_group]\n",
    "print(unmapped_ids)"
   ]
  },
  {
   "cell_type": "code",
   "execution_count": null,
   "metadata": {},
   "outputs": [
    {
     "name": "stdout",
     "output_type": "stream",
     "text": [
      "CSV 파일에 대분류 컬럼이 추가되어 저장되었습니다.\n"
     ]
    }
   ],
   "source": [
    "import pandas as pd\n",
    "\n",
    "# CSV 파일 읽기 (파일 경로에 맞게 수정)\n",
    "df = pd.read_csv('C:/Users/hp/Desktop/Bootcamp/PROJECT_OTT_AARRR/video_categories.csv')\n",
    "\n",
    "# categoryID가 29 또는 30인 행 제거\n",
    "df = df[~df['categoryID'].isin([29, 30])]\n",
    "\n",
    "# categoryID에 따른 카테고리명 (초기 카테고리 매핑)\n",
    "categories = {\n",
    "    1: \"Film & Animation\",\n",
    "    2: \"Autos & Vehicles\",\n",
    "    10: \"Music\",\n",
    "    15: \"Pets & Animals\",\n",
    "    17: \"Sports\",\n",
    "    19: \"Travel & Events\",\n",
    "    20: \"Gaming\",\n",
    "    22: \"People & Blogs\",\n",
    "    23: \"Comedy\",\n",
    "    24: \"Entertainment\",\n",
    "    25: \"News & Politics\",\n",
    "    26: \"Howto & Style\",\n",
    "    27: \"Education\",\n",
    "    28: \"Science & Technology\"\n",
    "}\n",
    "\n",
    "# 각 세부 카테고리에 대한 그룹 매핑 (대분류: 그룹번호, 그룹이름)\n",
    "group_mapping = {\n",
    "    'Film & Animation': (1, '엔터테인먼트'),\n",
    "    'Music': (1, '엔터테인먼트'),\n",
    "    'Comedy': (1, '엔터테인먼트'),\n",
    "    'Entertainment': (1, '엔터테인먼트'),\n",
    "    'Autos & Vehicles': (2, '차량'),\n",
    "    'Travel & Events': (3, '여행/음식'),\n",
    "    'Gaming': (4, '게임'),\n",
    "    'Sports': (5, '스포츠'),\n",
    "    'People & Blogs': (6, '라이프'),\n",
    "    'Howto & Style': (6, '라이프'),\n",
    "    'News & Politics': (7, '정치'),\n",
    "    'Pets & Animals': (8, '반려동물'),\n",
    "    'Education': (9, '교육'),\n",
    "    'Science & Technology': (10, '과학/기술')\n",
    "}\n",
    "\n",
    "# categoryID -> (top_categoryID, top_category)\n",
    "id_to_group = {}\n",
    "for cid, cat_name in categories.items():\n",
    "    id_to_group[cid] = group_mapping.get(cat_name, (None, None))\n",
    "\n",
    "# 각 행의 categoryID를 기반으로 그룹 정보를 할당하는 함수\n",
    "def assign_top_category(cid):\n",
    "    return id_to_group.get(cid, (None, None))\n",
    "\n",
    "# 각 카테고리별로 (그룹번호, 그룹이름) 튜플을 반환받아 두 개의 새로운 컬럼에 할당\n",
    "df['top_categoryID'], df['top_category'] = zip(*df['categoryID'].map(assign_top_category))\n",
    "\n",
    "# top_categoryID 컬럼을 int로 변환 (만약 누락된 값이 없다는 가정하에)\n",
    "df['top_categoryID'] = df['top_categoryID'].astype(int)\n",
    "\n",
    "# 결과 CSV 파일로 저장\n",
    "df.to_csv('C:/Users/hp/Desktop/Bootcamp/PROJECT_OTT_AARRR/video_categories_with_top_new.csv', index=False)\n",
    "print(\"CSV 파일에 대분류 컬럼이 추가되어 저장되었습니다.\")\n"
   ]
  }
 ],
 "metadata": {
  "kernelspec": {
   "display_name": "YT_project",
   "language": "python",
   "name": "python3"
  },
  "language_info": {
   "codemirror_mode": {
    "name": "ipython",
    "version": 3
   },
   "file_extension": ".py",
   "mimetype": "text/x-python",
   "name": "python",
   "nbconvert_exporter": "python",
   "pygments_lexer": "ipython3",
   "version": "3.9.21"
  }
 },
 "nbformat": 4,
 "nbformat_minor": 2
}
