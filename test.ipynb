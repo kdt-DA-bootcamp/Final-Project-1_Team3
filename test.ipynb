{
 "cells": [
  {
   "cell_type": "code",
   "execution_count": null,
   "metadata": {},
   "outputs": [
    {
     "name": "stdout",
     "output_type": "stream",
     "text": [
      "피클 파일 구조:\n",
      "{'type': 'dict', 'keys': ['1', '10', '2', '3', '4', '5', '6', '7', '8', '9'], 'sample_structure': {'1': {'type': 'dict', 'subkeys': ['outliers', 'tfidf_keywords', 'bertopic_keywords']}}}\n"
     ]
    },
    {
     "ename": "",
     "evalue": "",
     "output_type": "error",
     "traceback": [
      "\u001b[1;31mThe Kernel crashed while executing code in the current cell or a previous cell. \n",
      "\u001b[1;31mPlease review the code in the cell(s) to identify a possible cause of the failure. \n",
      "\u001b[1;31mClick <a href='https://aka.ms/vscodeJupyterKernelCrash'>here</a> for more info. \n",
      "\u001b[1;31mView Jupyter <a href='command:jupyter.viewOutput'>log</a> for further details."
     ]
    }
   ],
   "source": [
    "import os\n",
    "import pickle\n",
    "\n",
    "def examine_pickle_structure(file_path):\n",
    "    with open(file_path, \"rb\") as f:\n",
    "        data = pickle.load(f)\n",
    "    \n",
    "    structure_info = {\"type\": type(data).__name__}\n",
    "    \n",
    "    if isinstance(data, dict):\n",
    "        structure_info[\"keys\"] = list(data.keys())\n",
    "        # 첫 번째 카테고리 데이터의 구조를 확인합니다.\n",
    "        sample_structure = {}\n",
    "        for key, value in data.items():\n",
    "            sample_structure[key] = {\"type\": type(value).__name__}\n",
    "            if isinstance(value, dict):\n",
    "                sample_structure[key][\"subkeys\"] = list(value.keys())\n",
    "            elif isinstance(value, list) and len(value) > 0:\n",
    "                sample_structure[key][\"sample_item_type\"] = type(value[0]).__name__\n",
    "            break  # 첫 번째 항목만 확인\n",
    "        structure_info[\"sample_structure\"] = sample_structure\n",
    "    else:\n",
    "        structure_info[\"info\"] = \"데이터가 dict 타입이 아닙니다.\"\n",
    "    \n",
    "    return structure_info\n",
    "\n",
    "# 피클 파일 경로 설정 (실제 경로에 맞게 수정하세요)\n",
    "file_path = \"underdog_results.pkl\"\n",
    "\n",
    "if os.path.exists(file_path):\n",
    "    structure = examine_pickle_structure(file_path)\n",
    "    print(\"피클 파일 구조:\")\n",
    "    print(structure)\n",
    "else:\n",
    "    print(\"파일을 찾을 수 없습니다:\", file_path)\n"
   ]
  }
 ],
 "metadata": {
  "kernelspec": {
   "display_name": "ml",
   "language": "python",
   "name": "python3"
  },
  "language_info": {
   "codemirror_mode": {
    "name": "ipython",
    "version": 3
   },
   "file_extension": ".py",
   "mimetype": "text/x-python",
   "name": "python",
   "nbconvert_exporter": "python",
   "pygments_lexer": "ipython3",
   "version": "3.9.21"
  }
 },
 "nbformat": 4,
 "nbformat_minor": 2
}
