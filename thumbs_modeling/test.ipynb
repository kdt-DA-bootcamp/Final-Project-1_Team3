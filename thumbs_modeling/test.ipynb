{
 "cells": [
  {
   "cell_type": "code",
   "execution_count": 2,
   "metadata": {},
   "outputs": [
    {
     "name": "stdout",
     "output_type": "stream",
     "text": [
      "                                       thumbnailURL  \\\n",
      "0  https://i.ytimg.com/vi/--0-PnOg3yk/hqdefault.jpg   \n",
      "1  https://i.ytimg.com/vi/--0Ql-Wv0TE/hqdefault.jpg   \n",
      "2  https://i.ytimg.com/vi/--3kZm7wt3I/hqdefault.jpg   \n",
      "3  https://i.ytimg.com/vi/--6q2FHApro/hqdefault.jpg   \n",
      "4  https://i.ytimg.com/vi/--7YLVepuUg/hqdefault.jpg   \n",
      "\n",
      "                                               imgKw  \\\n",
      "0                                                      \n",
      "1  ['black', 'hair', 'mouth', 'facial', 'expressi...   \n",
      "2  ['facial', 'expression', 'news', 'screenshot',...   \n",
      "3  ['news', 'lunch', 'happiness', 'screenshot', '...   \n",
      "4  ['facial', 'expression', 'gesture', 'screensho...   \n",
      "\n",
      "                                             imgText  \\\n",
      "0                                                      \n",
      "1             ['중년', '여성', '위한', '데이트', '노하우', '가지']   \n",
      "2  ['방콕', '스마트폰', '가격', '한국', '라고', '기종', '한국', '...   \n",
      "3                                   ['PRISM', 'LIV']   \n",
      "4             ['생각', '보다', '취업', '사진', '메이크업', '준비']   \n",
      "\n",
      "                                        colorpalette  \n",
      "0                                                     \n",
      "1  [{\"rgb\": [58, 59, 54], \"pixel_count\": 87583, \"...  \n",
      "2  [{\"rgb\": [0, 0, 0], \"pixel_count\": 83100, \"rat...  \n",
      "3  [{\"rgb\": [6, 6, 6], \"pixel_count\": 57797, \"rat...  \n",
      "4  [{\"rgb\": [64, 63, 68], \"pixel_count\": 57533, \"...  \n"
     ]
    }
   ],
   "source": [
    "import os\n",
    "import pandas as pd\n",
    "from dotenv import load_dotenv\n",
    "from sqlalchemy import create_engine\n",
    "\n",
    "load_dotenv()\n",
    "\n",
    "# ------------------- DB 불러오기 -------------------\n",
    "def load_data():\n",
    "    user = os.getenv('DB_USER')\n",
    "    password = os.getenv('DB_PASSWORD')\n",
    "    host = os.getenv('DB_HOST')\n",
    "    port = os.getenv('DB_PORT')\n",
    "    database = os.getenv('DB_NAME')\n",
    "    engine = create_engine(f\"mysql+pymysql://{user}:{password}@{host}:{port}/{database}\")\n",
    "    thumbnail_df = pd.read_sql(\"SELECT * FROM thumbnail\", engine)\n",
    "    return thumbnail_df\n",
    "\n",
    "# 데이터 불러오기\n",
    "thumbnail_data = load_data()\n",
    "print(thumbnail_data.head())"
   ]
  },
  {
   "cell_type": "code",
   "execution_count": 1,
   "metadata": {},
   "outputs": [
    {
     "name": "stdout",
     "output_type": "stream",
     "text": [
      "컬럼명: Index(['categoryID', 'color_distribution'], dtype='object')\n",
      "   categoryID                                 color_distribution\n",
      "0           1  {(0, 0, 0): 0.27651249997182553, (36, 25, 21):...\n",
      "1          10  {(0, 0, 0): 0.35518988870662865, (39, 40, 45):...\n",
      "2           2  {(0, 0, 0): 0.4097977967343064, (204, 207, 214...\n",
      "3           3  {(11, 32, 37): 7.856282791198488e-05, (46, 47,...\n",
      "4           4  {(42, 31, 27): 0.00021168512327369594, (48, 35...\n"
     ]
    }
   ],
   "source": [
    "import pandas as pd\n",
    "\n",
    "# CSV 파일 확인\n",
    "color_analysis_df = pd.read_csv(\"color_analysis.csv\")\n",
    "print(\"컬럼명:\", color_analysis_df.columns)\n",
    "print(color_analysis_df.head())"
   ]
  }
 ],
 "metadata": {
  "kernelspec": {
   "display_name": "ml",
   "language": "python",
   "name": "python3"
  },
  "language_info": {
   "codemirror_mode": {
    "name": "ipython",
    "version": 3
   },
   "file_extension": ".py",
   "mimetype": "text/x-python",
   "name": "python",
   "nbconvert_exporter": "python",
   "pygments_lexer": "ipython3",
   "version": "3.9.21"
  }
 },
 "nbformat": 4,
 "nbformat_minor": 2
}
