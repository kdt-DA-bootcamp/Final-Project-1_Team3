{
 "cells": [
  {
   "cell_type": "code",
   "execution_count": 1,
   "metadata": {},
   "outputs": [
    {
     "name": "stderr",
     "output_type": "stream",
     "text": [
      "C:\\Users\\USER\\AppData\\Local\\Temp\\ipykernel_21196\\642515264.py:25: UserWarning: The provided table name 'Channel' is not found exactly as such in the database after writing the table, possibly due to case sensitivity issues. Consider using lower case table names.\n",
      "  channel_df.to_sql(name='Channel', con=engine, if_exists='append', index=False)\n"
     ]
    },
    {
     "name": "stdout",
     "output_type": "stream",
     "text": [
      "Channel 테이블에 데이터 삽입 완료\n",
      "삽입 가능한 영상 수: 103115\n",
      "Video 테이블에 데이터 삽입 완료\n"
     ]
    },
    {
     "name": "stderr",
     "output_type": "stream",
     "text": [
      "C:\\Users\\USER\\AppData\\Local\\Temp\\ipykernel_21196\\642515264.py:53: UserWarning: The provided table name 'Video' is not found exactly as such in the database after writing the table, possibly due to case sensitivity issues. Consider using lower case table names.\n",
      "  video_df.to_sql(name='Video', con=engine, if_exists='append', index=False)\n"
     ]
    }
   ],
   "source": [
    "import pandas as pd\n",
    "import pymysql\n",
    "from sqlalchemy import create_engine\n",
    "from dotenv import load_dotenv\n",
    "import os\n",
    "\n",
    "# 1. 환경변수 로드\n",
    "load_dotenv()\n",
    "\n",
    "user = os.getenv('DB_USER')\n",
    "password = os.getenv('DB_PASSWORD')\n",
    "host = os.getenv('DB_HOST')\n",
    "port = os.getenv('DB_PORT')\n",
    "database = os.getenv('DB_NAME')\n",
    "\n",
    "# 2. SQLAlchemy 엔진 생성\n",
    "engine = create_engine(\n",
    "    f\"mysql+pymysql://{user}:{password}@{host}:{port}/{database}?charset=utf8mb4\"\n",
    ")\n",
    "\n",
    "# 3. 채널 데이터 불러오기 및 저장\n",
    "channel_df = pd.read_csv(\"channels_by_keywords_최종.csv\")\n",
    "\n",
    "# DB에 저장\n",
    "channel_df.to_sql(name='Channel', con=engine, if_exists='append', index=False)\n",
    "print(\"Channel 테이블에 데이터 삽입 완료\")\n",
    "\n",
    "# 4. 영상 데이터 불러오기\n",
    "video_df = pd.read_csv(\"videos_by_keywords_최종.csv\", encoding='utf-8')\n",
    "\n",
    "# segment 컬럼 제거 (있다면)\n",
    "if 'segment' in video_df.columns:\n",
    "    video_df = video_df.drop(columns=['segment'])\n",
    "\n",
    "# uploadDate 포맷 변환\n",
    "video_df['uploadDate'] = pd.to_datetime(video_df['uploadDate'], utc=True, errors='coerce')\n",
    "video_df['uploadDate'] = video_df['uploadDate'].dt.strftime('%Y-%m-%d %H:%M:%S')\n",
    "\n",
    "# 컬럼명 정제\n",
    "video_df.columns = ['videoID', 'channelID', 'title', 'viewCount', 'likeCount', 'commentCount',\n",
    "                    'uploadDate', 'duration', 'tags', 'thumbnailURL', 'keyword', 'categoryID']\n",
    "\n",
    "# 5. 채널 ID 유효한 것만 필터링\n",
    "video_df = video_df.drop_duplicates(subset='videoID')\n",
    "with engine.connect() as conn:\n",
    "    valid_channels = pd.read_sql(\"SELECT channelID FROM Channel\", conn)\n",
    "valid_channel_ids = set(valid_channels['channelID'])\n",
    "\n",
    "video_df = video_df[video_df['channelID'].isin(valid_channel_ids)]\n",
    "print(f\"삽입 가능한 영상 수: {len(video_df)}\")\n",
    "\n",
    "# 6. DB에 저장\n",
    "video_df.to_sql(name='Video', con=engine, if_exists='append', index=False)\n",
    "print(\"Video 테이블에 데이터 삽입 완료\")"
   ]
  },
  {
   "cell_type": "code",
   "execution_count": 3,
   "metadata": {},
   "outputs": [
    {
     "name": "stdout",
     "output_type": "stream",
     "text": [
      "존재하지 않는 channelID 수: 36\n",
      "해당되는 영상 수: 64\n"
     ]
    }
   ],
   "source": [
    "# 1. channel 테이블에서 현재 존재하는 channelID 불러오기\n",
    "valid_channel_ids = pd.read_sql(\"SELECT channelID FROM channel\", con=engine)\n",
    "valid_ids_set = set(valid_channel_ids['channelID'])\n",
    "\n",
    "# 2. video_df에서 존재하지 않는 channelID만 필터링\n",
    "invalid_channel_df = video_df[~video_df['channelID'].isin(valid_ids_set)]\n",
    "\n",
    "# 3. 결과 확인\n",
    "print(f\"존재하지 않는 channelID 수: {invalid_channel_df['channelID'].nunique()}\")\n",
    "print(f\"해당되는 영상 수: {len(invalid_channel_df)}\")"
   ]
  },
  {
   "cell_type": "code",
   "execution_count": 5,
   "metadata": {},
   "outputs": [
    {
     "name": "stdout",
     "output_type": "stream",
     "text": [
      "Index(['videoID', 'channelID', 'title', 'viewCount', 'likeCount',\n",
      "       'commentCount', 'uploadDate', 'duration', 'tags', 'thumbnailURL',\n",
      "       'keyword', 'segment', 'categoryID', 'text_data', 'pos_tags'],\n",
      "      dtype='object')\n",
      "video 테이블에 token_tagging 업데이트 완료.\n"
     ]
    }
   ],
   "source": [
    "import pandas as pd\n",
    "from sqlalchemy import create_engine\n",
    "from sqlalchemy import text\n",
    "from dotenv import load_dotenv\n",
    "import os\n",
    "\n",
    "# 환경 변수 불러오기\n",
    "load_dotenv()\n",
    "user = os.getenv('DB_USER')\n",
    "password = os.getenv('DB_PASSWORD')\n",
    "host = os.getenv('DB_HOST')\n",
    "port = os.getenv('DB_PORT')\n",
    "database = os.getenv('DB_NAME')\n",
    "\n",
    "# DB 엔진 생성\n",
    "engine = create_engine(f\"mysql+pymysql://{user}:{password}@{host}:{port}/{database}?charset=utf8mb4\")\n",
    "\n",
    "# CSV 파일 로드\n",
    "pos_df = pd.read_csv('pos_tagged_data.csv')\n",
    "\n",
    "# 컬럼 확인\n",
    "print(pos_df.columns)\n",
    "\n",
    "# videoID 기준 중복 제거\n",
    "pos_df = pos_df.drop_duplicates(subset='videoID')\n",
    "\n",
    "# DB 연결 후 업데이트\n",
    "with engine.begin() as conn:\n",
    "    for _, row in pos_df.iterrows():\n",
    "        video_id = row['videoID']\n",
    "        pos_tags = row['pos_tags']\n",
    "\n",
    "        # SQLAlchemy text 쿼리 + 딕셔너리 파라미터\n",
    "        conn.execute(\n",
    "            text(\"\"\"\n",
    "                UPDATE video\n",
    "                SET token_tagging = :token_tagging\n",
    "                WHERE videoID = :videoID\n",
    "            \"\"\"),\n",
    "            {\"token_tagging\": pos_tags, \"videoID\": video_id}\n",
    "        )\n",
    "\n",
    "print(\"video 테이블에 token_tagging 업데이트 완료.\")"
   ]
  }
 ],
 "metadata": {
  "kernelspec": {
   "display_name": "crawl",
   "language": "python",
   "name": "python3"
  },
  "language_info": {
   "codemirror_mode": {
    "name": "ipython",
    "version": 3
   },
   "file_extension": ".py",
   "mimetype": "text/x-python",
   "name": "python",
   "nbconvert_exporter": "python",
   "pygments_lexer": "ipython3",
   "version": "3.9.21"
  }
 },
 "nbformat": 4,
 "nbformat_minor": 2
}
