{
 "cells": [
  {
   "cell_type": "code",
   "execution_count": 1,
   "metadata": {},
   "outputs": [],
   "source": [
    "import mysql.connector\n",
    "import pandas as pd\n",
    "\n",
    "def connect_mariadb(host, user, password, database, port=3306):\n",
    "    \"\"\"\n",
    "    MariaDB 연결을 생성하는 함수\n",
    "    \"\"\"\n",
    "    conn = mysql.connector.connect(\n",
    "        host=host,\n",
    "        user=user,\n",
    "        password=password,\n",
    "        database=database,\n",
    "        port=port\n",
    "    )\n",
    "    return conn"
   ]
  },
  {
   "cell_type": "code",
   "execution_count": null,
   "metadata": {},
   "outputs": [],
   "source": [
    "# DB 연결 설정\n",
    "HOST = \"localhost\"      # 또는 MariaDB 서버 IP\n",
    "USER = \"user1\"      # MariaDB 사용자\n",
    "PASSWORD = \"yttest1234\"  # MariaDB 비밀번호\n",
    "DATABASE = \"yttest_db\"  # 사용할 데이터베이스\n",
    "PORT = 3306             # 기본 포트\n",
    "\n",
    "# 연결 실행\n",
    "conn = connect_mariadb(HOST, USER, PASSWORD, DATABASE, PORT)"
   ]
  }
 ],
 "metadata": {
  "kernelspec": {
   "display_name": "crawl",
   "language": "python",
   "name": "python3"
  },
  "language_info": {
   "codemirror_mode": {
    "name": "ipython",
    "version": 3
   },
   "file_extension": ".py",
   "mimetype": "text/x-python",
   "name": "python",
   "nbconvert_exporter": "python",
   "pygments_lexer": "ipython3",
   "version": "3.9.21"
  }
 },
 "nbformat": 4,
 "nbformat_minor": 2
}
