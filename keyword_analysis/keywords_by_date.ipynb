{
 "cells": [
  {
   "cell_type": "code",
   "execution_count": 8,
   "metadata": {},
   "outputs": [
    {
     "name": "stdout",
     "output_type": "stream",
     "text": [
      "                                                    recent_3d  prev_7d  \\\n",
      "keywords                                                                 \n",
      "['ai 동요', '음악 아기노래', '동요', '아기노래', '동요 shorts']          20.0      0.0   \n",
      "['실력 배구', '배구 short', '배구', '배구 코트에서', 'short 댄스']        4.0      1.0   \n",
      "['2025년도 시청자에서애청자', 'view일정media schedule', 'vi...        3.0      1.0   \n",
      "\n",
      "                                                           ratio  \n",
      "keywords                                                          \n",
      "['ai 동요', '음악 아기노래', '동요', '아기노래', '동요 shorts']     2.000000e+06  \n",
      "['실력 배구', '배구 short', '배구', '배구 코트에서', 'short 댄스']  3.999960e+00  \n",
      "['2025년도 시청자에서애청자', 'view일정media schedule', 'vi...  2.999970e+00  \n",
      "keywords\n",
      "['ai모델 ai화보', 'ai사진 ai모델', 'aivlog aigirl', 'ai실사 ai룩북', 'ai룩북 ai교복']    21\n",
      "Name: date, dtype: int64\n"
     ]
    }
   ],
   "source": [
    "import pandas as pd\n",
    "from collections import Counter\n",
    "from itertools import chain\n",
    "import datetime\n",
    "\n",
    "# 데이터 불러오기\n",
    "df = pd.read_csv(\"C:/Users/hp/Desktop/Bootcamp/PROJECT_OTT_AARRR/keyword_analysis/video_data_with_keywords_kobert.csv\")\n",
    "\n",
    "# 날짜만 추출 (datetime으로 변환 → 날짜만 사용)\n",
    "df[\"date\"] = pd.to_datetime(df[\"uploadDate\"]).dt.date\n",
    "\n",
    "# 날짜별 키워드 카운팅\n",
    "daily_keyword_counts = (\n",
    "    df.explode(\"keywords\")                  # 키워드 리스트 → 여러 행으로\n",
    "      .groupby([\"date\", \"keywords\"])       # 날짜 + 키워드 조합\n",
    "      .size()\n",
    "      .reset_index(name=\"count\")           # 카운트 값\n",
    ")\n",
    "\n",
    "# 기준일: 가장 마지막 날짜 기준\n",
    "max_date = df[\"date\"].max()\n",
    "recent_3_days = [max_date - datetime.timedelta(days=i) for i in range(3)]\n",
    "prev_7_days = [max_date - datetime.timedelta(days=i) for i in range(3, 10)]\n",
    "\n",
    "# 최근 3일, 이전 7일 빈도 집계\n",
    "recent_counts = daily_keyword_counts[daily_keyword_counts[\"date\"].isin(recent_3_days)]\n",
    "prev_counts = daily_keyword_counts[daily_keyword_counts[\"date\"].isin(prev_7_days)]\n",
    "\n",
    "# 키워드별 합계\n",
    "recent_total = recent_counts.groupby(\"keywords\")[\"count\"].sum()\n",
    "prev_total = prev_counts.groupby(\"keywords\")[\"count\"].sum()\n",
    "\n",
    "# 비율 계산 (최근 3일 / 이전 7일)\n",
    "ratio_df = pd.DataFrame({\n",
    "    \"recent_3d\": recent_total,\n",
    "    \"prev_7d\": prev_total\n",
    "}).fillna(0)\n",
    "\n",
    "ratio_df[\"ratio\"] = ratio_df[\"recent_3d\"] / (ratio_df[\"prev_7d\"] + 1e-5)  # 0 나누기 방지\n",
    "\n",
    "# 반짝 키워드 기준: 비율이 2 이상 & 최근 등장 빈도 최소 3 이상\n",
    "flash_keywords = ratio_df[(ratio_df[\"ratio\"] >= 2.0) & (ratio_df[\"recent_3d\"] >= 3)].sort_values(\"ratio\", ascending=False)\n",
    "\n",
    "# 각 키워드가 등장한 날짜 수\n",
    "daily_count = daily_keyword_counts.groupby(\"keywords\")[\"date\"].nunique()\n",
    "\n",
    "# 기준: 전체 날짜의 70% 이상 등장한 키워드 (꾸준한 키워드)\n",
    "total_days = df[\"date\"].nunique()\n",
    "steady_keywords = daily_count[daily_count >= int(total_days * 0.7)].sort_values(ascending=False)\n",
    "\n",
    "# 반짝 키워드\n",
    "flash_keyword_list = flash_keywords.index.tolist()\n",
    "# print(flash_keyword_list)\n",
    "print(flash_keywords.head(20))\n",
    "\n",
    "# 꾸준 키워드\n",
    "steady_keyword_list = steady_keywords.index.tolist()\n",
    "# print(steady_keyword_list)\n",
    "print(steady_keywords.head(20))"
   ]
  }
 ],
 "metadata": {
  "kernelspec": {
   "display_name": "YT_project",
   "language": "python",
   "name": "python3"
  },
  "language_info": {
   "codemirror_mode": {
    "name": "ipython",
    "version": 3
   },
   "file_extension": ".py",
   "mimetype": "text/x-python",
   "name": "python",
   "nbconvert_exporter": "python",
   "pygments_lexer": "ipython3",
   "version": "3.9.21"
  }
 },
 "nbformat": 4,
 "nbformat_minor": 2
}
