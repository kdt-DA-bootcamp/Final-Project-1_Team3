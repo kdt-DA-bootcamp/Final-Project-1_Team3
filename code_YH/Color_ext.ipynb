{
 "cells": [
  {
   "cell_type": "markdown",
   "metadata": {},
   "source": [
    "## 이미지 썸네일로부터 색상정보 추출\n",
    "### extcolors 모듈 사용"
   ]
  },
  {
   "cell_type": "code",
   "execution_count": null,
   "metadata": {},
   "outputs": [],
   "source": [
    "%pip install pillow"
   ]
  },
  {
   "cell_type": "code",
   "execution_count": null,
   "metadata": {},
   "outputs": [],
   "source": [
    "%pip install extcolors python-dotenv pymysql"
   ]
  },
  {
   "cell_type": "code",
   "execution_count": null,
   "metadata": {},
   "outputs": [],
   "source": [
    "import pandas as pd\n",
    "import requests\n",
    "from io import BytesIO\n",
    "from PIL import Image\n",
    "import extcolors"
   ]
  },
  {
   "cell_type": "markdown",
   "metadata": {},
   "source": [
    "### csv 파일에서 URL을 읽을 때"
   ]
  },
  {
   "cell_type": "code",
   "execution_count": null,
   "metadata": {},
   "outputs": [],
   "source": [
    "# CSV 파일 로드\n",
    "csv_path = r\"C:\\Users\\YH\\Desktop\\데이터분석가부트캠프\\practice\\HAYEONGHAN705\\1st_project\\csv\\videos_with_captions_full_0312_0322.csv\"\n",
    "df = pd.read_csv(csv_path)\n",
    "\n",
    "def extract_colors_from_url(url, tolerance=12, limit=5):\n",
    "    try:\n",
    "        # 이미지 다운로드\n",
    "        response = requests.get(url)\n",
    "        response.raise_for_status()  # 오류 발생 시 예외 발생\n",
    "        img = Image.open(BytesIO(response.content))\n",
    "        \n",
    "        # extcolors로 색상 추출\n",
    "        # colors: [((R, G, B), 픽셀수), ...], pixel_count: 사용된 총 픽셀수\n",
    "        colors, pixel_count = extcolors.extract_from_image(img, tolerance=tolerance, limit=limit)\n",
    "        \n",
    "        # 리스트에 포함된 색상의 총 픽셀 수 합산\n",
    "        total = sum(count for (rgb, count) in colors)\n",
    "        \n",
    "        # 각 색상의 RGB, 픽셀 수, 그리고 전체 대비 퍼센트 계산\n",
    "        colors_with_percentage = [(rgb, count, round((count / total * 100), 2)) for (rgb, count) in colors]\n",
    "        return colors_with_percentage\n",
    "    except Exception as e:\n",
    "        print(f\"URL 처리 중 오류 발생: {url}\\n오류 메시지: {e}\")\n",
    "        return None\n",
    "\n",
    "# thumbnailURL 열의 각 URL에서 색상 추출 후 새로운 열에 저장\n",
    "df['extracted_colors'] = df['thumbnailURL'].apply(extract_colors_from_url)\n",
    "\n",
    "# 결과 CSV 저장\n",
    "output_csv_path = r\"C:\\Users\\YH\\Desktop\\데이터분석가부트캠프\\practice\\HAYEONGHAN705\\1st_project\\csv\\videos_with_color_captions_0312_0322.csv\"\n",
    "df.to_csv(output_csv_path, index=False, encoding='utf-8-sig')\n",
    "\n",
    "print(\"모든 이미지의 색상 추출이 완료되었습니다.\")"
   ]
  },
  {
   "cell_type": "markdown",
   "metadata": {},
   "source": [
    "### DB에서 URL을 읽을 때"
   ]
  },
  {
   "cell_type": "code",
   "execution_count": null,
   "metadata": {},
   "outputs": [],
   "source": [
    "from dotenv import load_dotenv\n",
    "import os\n",
    "\n",
    "# .env 파일의 환경 변수 로드\n",
    "load_dotenv()\n",
    "\n",
    "# 환경 변수에서 DB 암호 가져오기 (여기서는 변수명이 '1P_DB_PW'라고 가정)\n",
    "db_password = os.getenv('1P_DB_PW')\n",
    "print(db_password)"
   ]
  },
  {
   "cell_type": "code",
   "execution_count": null,
   "metadata": {},
   "outputs": [],
   "source": [
    "import os\n",
    "import requests\n",
    "from io import BytesIO\n",
    "from PIL import Image\n",
    "import extcolors\n",
    "import mysql.connector\n",
    "import json\n",
    "\n",
    "# DB 접속 설정\n",
    "db_config = {\n",
    "    'host': '121.128.172.79',\n",
    "    'user': 'user3',\n",
    "    'password': db_password,\n",
    "    'database': 'yttest_db',\n",
    "    'port': 3306\n",
    "}\n",
    "\n",
    "# DB 연결 생성 (dictionary=True 옵션으로 컬럼명을 key로 사용)\n",
    "conn = mysql.connector.connect(**db_config)\n",
    "cursor = conn.cursor(dictionary=True)\n",
    "\n",
    "def extract_colors_from_url(url, tolerance=12, limit=5):\n",
    "    try:\n",
    "        # 이미지 다운로드 및 열기\n",
    "        response = requests.get(url)\n",
    "        response.raise_for_status()  # 오류 발생 시 예외 처리\n",
    "        img = Image.open(BytesIO(response.content))\n",
    "        \n",
    "        # 이미지에서 색상 추출: colors는 [((R, G, B), 픽셀수), ...]\n",
    "        colors, pixel_count = extcolors.extract_from_image(img, tolerance=tolerance, limit=limit)\n",
    "        total = sum(count for (rgb, count) in colors)\n",
    "        \n",
    "        # 각 색상의 RGB, 픽셀 수, 그리고 전체 대비 퍼센트 계산\n",
    "        colors_with_percentage = [\n",
    "            (rgb, count, round((count / total * 100), 2)) for (rgb, count) in colors\n",
    "        ]\n",
    "        return colors_with_percentage\n",
    "    except Exception as e:\n",
    "        print(f\"URL 처리 중 오류 발생: {url}\\n오류 메시지: {e}\")\n",
    "        return None\n",
    "\n",
    "# 1. DB에서 thumbnailURL 컬럼을 읽어오기 (필요한 경우 추가 조건을 붙일 수 있음)\n",
    "select_query = \"SELECT thumbnailURL FROM thumbnail\"\n",
    "cursor.execute(select_query)\n",
    "rows = cursor.fetchall()\n",
    "\n",
    "# 2. 각 thumbnailURL에 대해 색상 추출 후 DB 업데이트 수행\n",
    "for row in rows:\n",
    "    url = row['thumbnailURL']\n",
    "    colors = extract_colors_from_url(url)\n",
    "    if colors is not None:\n",
    "        # 추출한 색상 정보를 JSON 문자열로 변환\n",
    "        colors_json = json.dumps(colors)\n",
    "    else:\n",
    "        colors_json = None\n",
    "\n",
    "    # thumbnail 테이블의 colorpalette 컬럼에 업데이트 (thumbnailURL을 PK로 사용)\n",
    "    update_query = \"\"\"\n",
    "        UPDATE thumbnail\n",
    "        SET colorpalette = %s\n",
    "        WHERE thumbnailURL = %s\n",
    "    \"\"\"\n",
    "    cursor.execute(update_query, (colors_json, url))\n",
    "    conn.commit()  # 각 업데이트 후 커밋 (많은 데이터라면 배치 커밋 고려)\n",
    "\n",
    "print(\"모든 이미지의 색상 추출 및 DB 업데이트가 완료되었습니다.\")\n",
    "\n",
    "cursor.close()\n",
    "conn.close()"
   ]
  }
 ],
 "metadata": {
  "kernelspec": {
   "display_name": "GCV",
   "language": "python",
   "name": "python3"
  },
  "language_info": {
   "name": "python",
   "version": "3.9.0"
  }
 },
 "nbformat": 4,
 "nbformat_minor": 2
}
